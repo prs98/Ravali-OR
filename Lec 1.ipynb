{
 "cells": [
  {
   "cell_type": "code",
   "execution_count": 1,
   "id": "1af3b1a5",
   "metadata": {},
   "outputs": [],
   "source": [
    "# Importing libraries\n",
    "from pyomo.environ import *"
   ]
  },
  {
   "cell_type": "markdown",
   "id": "1fb37f21",
   "metadata": {},
   "source": [
    "Obj: Maximize z <br>\n",
    "z = 500x + 400y\n",
    "\n",
    "ST constriants <br>\n",
    "30x + 10y >= 135 <br>\n",
    "10x + 15y <= 150 <br>\n",
    "20x + 10y <= 160 <br>\n",
    "x>=0 <br>\n",
    "y>=0 <br>\n",
    "x and y are positive"
   ]
  },
  {
   "cell_type": "code",
   "execution_count": 2,
   "id": "a0ed4c8b",
   "metadata": {},
   "outputs": [],
   "source": [
    "# Using Concrete modelling not Abstract Modelling\n",
    "prasanna_model = ConcreteModel()"
   ]
  },
  {
   "cell_type": "code",
   "execution_count": 3,
   "id": "15ec464a",
   "metadata": {},
   "outputs": [],
   "source": [
    "# Tell Pyomo what your decision variables are\n",
    "prasanna_model.x = Var(within=NonNegativeReals, initialize=0.0) # within=NonNegativeReals\n",
    "prasanna_model.y = Var(domain=PositiveReals, initialize=1.0)"
   ]
  },
  {
   "cell_type": "code",
   "execution_count": 4,
   "id": "1b6b30dc",
   "metadata": {},
   "outputs": [],
   "source": [
    "# Tell pyomo what your constraints are\n",
    "prasanna_model.Constraint1 = Constraint(expr = 30*prasanna_model.x + 10*prasanna_model.y >= 135)\n",
    "prasanna_model.Constraint2 = Constraint(expr = 10*prasanna_model.x + 15*prasanna_model.y <= 150)\n",
    "prasanna_model.Constraint3 = Constraint(expr = 20*prasanna_model.x + 10*prasanna_model.y <= 160)"
   ]
  },
  {
   "cell_type": "code",
   "execution_count": 5,
   "id": "06fcbdea",
   "metadata": {},
   "outputs": [],
   "source": [
    "# Tell pyomo what yout objective function is\n",
    "prasanna_model.prasanna_goal = Objective(expr = 500*prasanna_model.x + 400*prasanna_model.y, sense=maximize)"
   ]
  },
  {
   "cell_type": "code",
   "execution_count": 6,
   "id": "d11628c1",
   "metadata": {},
   "outputs": [
    {
     "name": "stdout",
     "output_type": "stream",
     "text": [
      "WARNING: Could not locate the 'scip' executable or the older 'scipampl'\n",
      "executable, which is required for solver scip\n"
     ]
    },
    {
     "ename": "ApplicationError",
     "evalue": "No executable found for solver 'scip'",
     "output_type": "error",
     "traceback": [
      "\u001b[1;31m---------------------------------------------------------------------------\u001b[0m",
      "\u001b[1;31mApplicationError\u001b[0m                          Traceback (most recent call last)",
      "\u001b[1;32m~\\AppData\\Local\\Temp/ipykernel_23152/870850414.py\u001b[0m in \u001b[0;36m<module>\u001b[1;34m\u001b[0m\n\u001b[0;32m      2\u001b[0m \u001b[1;33m\u001b[0m\u001b[0m\n\u001b[0;32m      3\u001b[0m \u001b[0moptimizer\u001b[0m \u001b[1;33m=\u001b[0m \u001b[0mSolverFactory\u001b[0m\u001b[1;33m(\u001b[0m\u001b[1;34m\"scip\"\u001b[0m\u001b[1;33m)\u001b[0m \u001b[1;31m# Using 'ipopt', 'scip', 'gurobi', 'cplex'\u001b[0m\u001b[1;33m\u001b[0m\u001b[1;33m\u001b[0m\u001b[0m\n\u001b[1;32m----> 4\u001b[1;33m \u001b[0moptimizer\u001b[0m\u001b[1;33m.\u001b[0m\u001b[0msolve\u001b[0m\u001b[1;33m(\u001b[0m\u001b[0mprasanna_model\u001b[0m\u001b[1;33m)\u001b[0m\u001b[1;33m\u001b[0m\u001b[1;33m\u001b[0m\u001b[0m\n\u001b[0m\u001b[0;32m      5\u001b[0m \u001b[0mprasanna_model\u001b[0m\u001b[1;33m.\u001b[0m\u001b[0mdisplay\u001b[0m\u001b[1;33m(\u001b[0m\u001b[1;33m)\u001b[0m\u001b[1;33m\u001b[0m\u001b[1;33m\u001b[0m\u001b[0m\n",
      "\u001b[1;32m~\\anaconda3\\lib\\site-packages\\pyomo\\opt\\base\\solvers.py\u001b[0m in \u001b[0;36msolve\u001b[1;34m(self, *args, **kwds)\u001b[0m\n\u001b[0;32m    531\u001b[0m         \u001b[1;34m\"\"\"Solve the problem\"\"\"\u001b[0m\u001b[1;33m\u001b[0m\u001b[1;33m\u001b[0m\u001b[0m\n\u001b[0;32m    532\u001b[0m \u001b[1;33m\u001b[0m\u001b[0m\n\u001b[1;32m--> 533\u001b[1;33m         \u001b[0mself\u001b[0m\u001b[1;33m.\u001b[0m\u001b[0mavailable\u001b[0m\u001b[1;33m(\u001b[0m\u001b[0mexception_flag\u001b[0m\u001b[1;33m=\u001b[0m\u001b[1;32mTrue\u001b[0m\u001b[1;33m)\u001b[0m\u001b[1;33m\u001b[0m\u001b[1;33m\u001b[0m\u001b[0m\n\u001b[0m\u001b[0;32m    534\u001b[0m         \u001b[1;31m#\u001b[0m\u001b[1;33m\u001b[0m\u001b[1;33m\u001b[0m\u001b[0m\n\u001b[0;32m    535\u001b[0m         \u001b[1;31m# If the inputs are models, then validate that they have been\u001b[0m\u001b[1;33m\u001b[0m\u001b[1;33m\u001b[0m\u001b[0m\n",
      "\u001b[1;32m~\\anaconda3\\lib\\site-packages\\pyomo\\opt\\solver\\shellcmd.py\u001b[0m in \u001b[0;36mavailable\u001b[1;34m(self, exception_flag)\u001b[0m\n\u001b[0;32m    139\u001b[0m             \u001b[1;32mif\u001b[0m \u001b[0mexception_flag\u001b[0m\u001b[1;33m:\u001b[0m\u001b[1;33m\u001b[0m\u001b[1;33m\u001b[0m\u001b[0m\n\u001b[0;32m    140\u001b[0m                 \u001b[0mmsg\u001b[0m \u001b[1;33m=\u001b[0m \u001b[1;34m\"No executable found for solver '%s'\"\u001b[0m\u001b[1;33m\u001b[0m\u001b[1;33m\u001b[0m\u001b[0m\n\u001b[1;32m--> 141\u001b[1;33m                 \u001b[1;32mraise\u001b[0m \u001b[0mApplicationError\u001b[0m\u001b[1;33m(\u001b[0m\u001b[0mmsg\u001b[0m \u001b[1;33m%\u001b[0m \u001b[0mself\u001b[0m\u001b[1;33m.\u001b[0m\u001b[0mname\u001b[0m\u001b[1;33m)\u001b[0m\u001b[1;33m\u001b[0m\u001b[1;33m\u001b[0m\u001b[0m\n\u001b[0m\u001b[0;32m    142\u001b[0m             \u001b[1;32mreturn\u001b[0m \u001b[1;32mFalse\u001b[0m\u001b[1;33m\u001b[0m\u001b[1;33m\u001b[0m\u001b[0m\n\u001b[0;32m    143\u001b[0m         \u001b[1;32mreturn\u001b[0m \u001b[1;32mTrue\u001b[0m\u001b[1;33m\u001b[0m\u001b[1;33m\u001b[0m\u001b[0m\n",
      "\u001b[1;31mApplicationError\u001b[0m: No executable found for solver 'scip'"
     ]
    }
   ],
   "source": [
    "# Tell pyomo to solve for x and y (decision variables)\n",
    "\n",
    "optimizer = SolverFactory(\"scip\", executable=\"C:/Users/sabbe/anaconda3/envs/operations_research_env/conda-meta/scip-8.0.4-hc7fd266_0.json\") # Using 'ipopt', 'scip', 'gurobi', 'cplex'\n",
    "optimizer.solve(prasanna_model)\n",
    "prasanna_model.display()"
   ]
  },
  {
   "cell_type": "code",
   "execution_count": 22,
   "id": "1a2bc52b",
   "metadata": {},
   "outputs": [
    {
     "name": "stdout",
     "output_type": "stream",
     "text": [
      "4.5\n",
      "7.0\n",
      "5050.0\n"
     ]
    }
   ],
   "source": [
    "# Grab decision variables and objective value to us them somewhere else\n",
    "\n",
    "print(prasanna_model.x.value)\n",
    "print(prasanna_model.y.value)\n",
    "print(value(prasanna_model.prasanna_goal))"
   ]
  },
  {
   "cell_type": "code",
   "execution_count": 23,
   "id": "547da2f3",
   "metadata": {},
   "outputs": [
    {
     "name": "stdout",
     "output_type": "stream",
     "text": [
      "Constraint1 : Size=1, Index=None, Active=True\n",
      "    Key  : Lower : Body        : Upper : Active\n",
      "    None : 135.0 : 30*x + 10*y :  +Inf :   True\n"
     ]
    }
   ],
   "source": [
    "# print your constraints for easy reading and documenting\n",
    "prasanna_model.Constraint1.pprint()"
   ]
  },
  {
   "cell_type": "code",
   "execution_count": 24,
   "id": "7f84720a",
   "metadata": {},
   "outputs": [
    {
     "name": "stdout",
     "output_type": "stream",
     "text": [
      "30*x + 10*y\n"
     ]
    }
   ],
   "source": [
    "# print your constraint body\n",
    "print(prasanna_model.Constraint1.body)"
   ]
  },
  {
   "cell_type": "code",
   "execution_count": 25,
   "id": "cedbf93a",
   "metadata": {},
   "outputs": [
    {
     "name": "stdout",
     "output_type": "stream",
     "text": [
      "None\n"
     ]
    }
   ],
   "source": [
    "# print your constraints up\n",
    "print(prasanna_model.Constraint1.upper)"
   ]
  },
  {
   "cell_type": "code",
   "execution_count": 26,
   "id": "a9e83e87",
   "metadata": {},
   "outputs": [
    {
     "name": "stdout",
     "output_type": "stream",
     "text": [
      "135.0\n"
     ]
    }
   ],
   "source": [
    "# print your constraints lb\n",
    "print(prasanna_model.Constraint1.lower)"
   ]
  },
  {
   "cell_type": "code",
   "execution_count": null,
   "id": "0069fb42",
   "metadata": {},
   "outputs": [],
   "source": []
  },
  {
   "cell_type": "markdown",
   "id": "6dae1d8b",
   "metadata": {},
   "source": [
    "Obj: Maximize z <br>\n",
    "z = 4x1 + 3x2\n",
    "\n",
    "ST constriants <br>\n",
    "2x1 - x2 >= 6 <br>\n",
    "x1 + x2 <= 2 <br>\n",
    "x1 and x2 >= 0"
   ]
  },
  {
   "cell_type": "code",
   "execution_count": 8,
   "id": "ecca0090",
   "metadata": {
    "scrolled": false
   },
   "outputs": [
    {
     "name": "stdout",
     "output_type": "stream",
     "text": [
      "Model unknown\n",
      "\n",
      "  Variables:\n",
      "    x1 : Size=1, Index=None\n",
      "        Key  : Lower : Value : Upper : Fixed : Stale : Domain\n",
      "        None :     0 :   0.0 :  None : False : False : NonNegativeReals\n",
      "    x2 : Size=1, Index=None\n",
      "        Key  : Lower : Value : Upper : Fixed : Stale : Domain\n",
      "        None :     0 :   0.0 :  None : False : False : NonNegativeReals\n",
      "\n",
      "  Objectives:\n",
      "    object : Size=1, Index=None, Active=True\n",
      "        Key  : Active : Value\n",
      "        None :   True :   0.0\n",
      "\n",
      "  Constraints:\n",
      "    Constraint1 : Size=1\n",
      "        Key  : Lower : Body : Upper\n",
      "        None :   6.0 :  0.0 :  None\n",
      "    Constraint2 : Size=1\n",
      "        Key  : Lower : Body : Upper\n",
      "        None :  None :  0.0 :   2.0\n"
     ]
    },
    {
     "data": {
      "text/plain": [
       "<SolverStatus.ok: 'ok'>"
      ]
     },
     "execution_count": 8,
     "metadata": {},
     "output_type": "execute_result"
    }
   ],
   "source": [
    "# Using Concrete modelling not Abstract Modelling\n",
    "sabbella_model = ConcreteModel()\n",
    "\n",
    "# Tell Pyomo what your decision variables are\n",
    "sabbella_model.x1 = Var(within=NonNegativeReals, initialize=0.0)\n",
    "sabbella_model.x2 = Var(within=NonNegativeReals, initialize=0.0)\n",
    "\n",
    "# Tell pyomo what your constraints are\n",
    "sabbella_model.Constraint1 = Constraint(expr = 2*sabbella_model.x1 - sabbella_model.x2 >= 6)\n",
    "sabbella_model.Constraint2 = Constraint(expr = sabbella_model.x1 + sabbella_model.x2 <= 2)\n",
    "\n",
    "# Tell pyomo what yout objective function is\n",
    "sabbella_model.object = Objective(expr = 4*sabbella_model.x1 + 3*sabbella_model.x2, sense=maximize)\n",
    "\n",
    "# Tell pyomo to solve for x and y (decision variables)\n",
    "optimizer = SolverFactory(\"glpk\") # Using 'ipopt', 'scip', 'gurobi', 'cplex'\n",
    "results = optimizer.solve(sabbella_model)\n",
    "sabbella_model.display()\n",
    "\n",
    "results.solver.status"
   ]
  },
  {
   "cell_type": "code",
   "execution_count": null,
   "id": "cadaf27f",
   "metadata": {},
   "outputs": [],
   "source": []
  },
  {
   "cell_type": "markdown",
   "id": "fd4a9679",
   "metadata": {},
   "source": [
    "Obj: Maximize z <br>\n",
    "z = 2x1 + 3x2\n",
    "\n",
    "ST constriants <br>\n",
    "x1 + x2 >= 3 <br>\n",
    "x1 - 2x2 <= 4 <br>\n",
    "x1 and x2 >= 0"
   ]
  },
  {
   "cell_type": "code",
   "execution_count": 9,
   "id": "b732060a",
   "metadata": {},
   "outputs": [
    {
     "name": "stdout",
     "output_type": "stream",
     "text": [
      "Model unknown\n",
      "\n",
      "  Variables:\n",
      "    x1 : Size=1, Index=None\n",
      "        Key  : Lower : Value : Upper : Fixed : Stale : Domain\n",
      "        None :     0 :     0 :  None : False : False : NonNegativeReals\n",
      "    x2 : Size=1, Index=None\n",
      "        Key  : Lower : Value : Upper : Fixed : Stale : Domain\n",
      "        None :     0 :     0 :  None : False : False : NonNegativeReals\n",
      "\n",
      "  Objectives:\n",
      "    object : Size=1, Index=None, Active=True\n",
      "        Key  : Active : Value\n",
      "        None :   True :     0\n",
      "\n",
      "  Constraints:\n",
      "    Constraint1 : Size=1\n",
      "        Key  : Lower : Body : Upper\n",
      "        None :   3.0 :    0 :  None\n",
      "    Constraint2 : Size=1\n",
      "        Key  : Lower : Body : Upper\n",
      "        None :  None :    0 :   4.0\n"
     ]
    }
   ],
   "source": [
    "# Using Concrete modelling not Abstract Modelling\n",
    "kumar_model = ConcreteModel()\n",
    "\n",
    "# Tell Pyomo what your decision variables are\n",
    "kumar_model.x1 = Var(within=NonNegativeReals, initialize = 0)\n",
    "kumar_model.x2 = Var(within=NonNegativeReals, initialize = 0)\n",
    "\n",
    "# Tell pyomo what your constraints are\n",
    "kumar_model.Constraint1 = Constraint(expr = 1*kumar_model.x1 + 1*kumar_model.x2 >= 3)\n",
    "kumar_model.Constraint2 = Constraint(expr = 1*kumar_model.x1 - 2*kumar_model.x2 <= 4)\n",
    "\n",
    "# Tell pyomo what yout objective function is\n",
    "kumar_model.object = Objective(expr = 2*kumar_model.x1 + 3*kumar_model.x2, sense=maximize)\n",
    "\n",
    "# Tell pyomo to solve for x and y (decision variables)\n",
    "optimizer = SolverFactory(\"glpk\") # Using 'ipopt', 'scip', 'gurobi', 'cplex'\n",
    "optimizer.solve(kumar_model)\n",
    "kumar_model.display()"
   ]
  },
  {
   "cell_type": "code",
   "execution_count": null,
   "id": "e0ca8177",
   "metadata": {},
   "outputs": [],
   "source": []
  },
  {
   "cell_type": "code",
   "execution_count": null,
   "id": "b4365524",
   "metadata": {},
   "outputs": [],
   "source": []
  }
 ],
 "metadata": {
  "kernelspec": {
   "display_name": "Python 3 (ipykernel)",
   "language": "python",
   "name": "python3"
  },
  "language_info": {
   "codemirror_mode": {
    "name": "ipython",
    "version": 3
   },
   "file_extension": ".py",
   "mimetype": "text/x-python",
   "name": "python",
   "nbconvert_exporter": "python",
   "pygments_lexer": "ipython3",
   "version": "3.9.7"
  }
 },
 "nbformat": 4,
 "nbformat_minor": 5
}
